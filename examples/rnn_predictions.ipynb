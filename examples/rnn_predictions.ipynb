{
 "cells": [
  {
   "cell_type": "code",
   "execution_count": 1,
   "metadata": {
    "collapsed": true
   },
   "outputs": [],
   "source": [
    "from astropy.table import Table"
   ]
  },
  {
   "cell_type": "code",
   "execution_count": 2,
   "metadata": {
    "collapsed": true
   },
   "outputs": [],
   "source": [
    "import numpy as np\n",
    "import pandas as pd"
   ]
  },
  {
   "cell_type": "code",
   "execution_count": 20,
   "metadata": {
    "collapsed": false
   },
   "outputs": [
    {
     "name": "stderr",
     "output_type": "stream",
     "text": [
      "/usr/local/software/lib/python2.7/site-packages/IPython/html.py:14: ShimWarning: The `IPython.html` package has been deprecated. You should import from `notebook` instead. `IPython.html.widgets` has moved to `ipywidgets`.\n",
      "  \"`IPython.html.widgets` has moved to `ipywidgets`.\", ShimWarning)\n"
     ]
    }
   ],
   "source": [
    "%matplotlib inline\n",
    "import matplotlib.pyplot as plt\n",
    "import seaborn as sns\n",
    "sns.set()"
   ]
  },
  {
   "cell_type": "code",
   "execution_count": 21,
   "metadata": {
    "collapsed": true
   },
   "outputs": [],
   "source": [
    "snia = Table.read('LSST_Ia_HEAD.FITS').to_pandas()"
   ]
  },
  {
   "cell_type": "code",
   "execution_count": 22,
   "metadata": {
    "collapsed": true
   },
   "outputs": [],
   "source": [
    "sncc = Table.read('LSST_NONIa_HEAD.FITS').to_pandas()"
   ]
  },
  {
   "cell_type": "code",
   "execution_count": 43,
   "metadata": {
    "collapsed": false
   },
   "outputs": [],
   "source": [
    "df = pd.concat([snia, sncc], axis=0)\n",
    "df.SNID = df.SNID.astype(int)"
   ]
  },
  {
   "cell_type": "code",
   "execution_count": 44,
   "metadata": {
    "collapsed": false
   },
   "outputs": [
    {
     "data": {
      "text/plain": [
       "Index([u'DECL', u'FAKE', u'HOSTGAL_LOGMASS', u'HOSTGAL_LOGMASS_ERR',\n",
       "       u'HOSTGAL_MAG_Y', u'HOSTGAL_MAG_g', u'HOSTGAL_MAG_i', u'HOSTGAL_MAG_r',\n",
       "       u'HOSTGAL_MAG_u', u'HOSTGAL_MAG_z', u'HOSTGAL_OBJID', u'HOSTGAL_PHOTOZ',\n",
       "       u'HOSTGAL_PHOTOZ_ERR', u'HOSTGAL_SB_FLUXCAL_Y', u'HOSTGAL_SB_FLUXCAL_g',\n",
       "       u'HOSTGAL_SB_FLUXCAL_i', u'HOSTGAL_SB_FLUXCAL_r',\n",
       "       u'HOSTGAL_SB_FLUXCAL_u', u'HOSTGAL_SB_FLUXCAL_z', u'HOSTGAL_SNSEP',\n",
       "       u'HOSTGAL_SPECZ', u'HOSTGAL_SPECZ_ERR', u'IAUC', u'MWEBV', u'MWEBV_ERR',\n",
       "       u'NOBS', u'NXPIX', u'NYPIX', u'PEAKMJD', u'PIXSIZE', u'PTROBS_MAX',\n",
       "       u'PTROBS_MIN', u'RA', u'REDSHIFT_FINAL', u'REDSHIFT_FINAL_ERR',\n",
       "       u'REDSHIFT_HELIO', u'REDSHIFT_HELIO_ERR', u'SEARCH_TYPE', u'SIM_AV',\n",
       "       u'SIM_AVTAU', u'SIM_DECL', u'SIM_DLMU', u'SIM_EXPOSURE_Y',\n",
       "       u'SIM_EXPOSURE_g', u'SIM_EXPOSURE_i', u'SIM_EXPOSURE_r',\n",
       "       u'SIM_EXPOSURE_u', u'SIM_EXPOSURE_z', u'SIM_GALFRAC_Y',\n",
       "       u'SIM_GALFRAC_g', u'SIM_GALFRAC_i', u'SIM_GALFRAC_r', u'SIM_GALFRAC_u',\n",
       "       u'SIM_GALFRAC_z', u'SIM_LIBID', u'SIM_MAGSMEAR_COH', u'SIM_MODEL_INDEX',\n",
       "       u'SIM_MODEL_NAME', u'SIM_MWEBV', u'SIM_NON1a', u'SIM_PEAKMAG_Y',\n",
       "       u'SIM_PEAKMAG_g', u'SIM_PEAKMAG_i', u'SIM_PEAKMAG_r', u'SIM_PEAKMAG_u',\n",
       "       u'SIM_PEAKMAG_z', u'SIM_PEAKMJD', u'SIM_RA', u'SIM_REDSHIFT_CMB',\n",
       "       u'SIM_REDSHIFT_HELIO', u'SIM_RV', u'SIM_SALT2alpha', u'SIM_SALT2beta',\n",
       "       u'SIM_SALT2c', u'SIM_SALT2mB', u'SIM_SALT2x0', u'SIM_SALT2x1',\n",
       "       u'SIM_SEARCHEFF_MASK', u'SIM_TYPE_INDEX', u'SIM_TYPE_NAME', u'SIM_VPEC',\n",
       "       u'SNID', u'SNTYPE'],\n",
       "      dtype='object')"
      ]
     },
     "execution_count": 44,
     "metadata": {},
     "output_type": "execute_result"
    }
   ],
   "source": [
    "df.columns"
   ]
  },
  {
   "cell_type": "code",
   "execution_count": 45,
   "metadata": {
    "collapsed": false
   },
   "outputs": [
    {
     "data": {
      "image/png": "[encoded data removed]",
      "text/plain": [
       "<matplotlib.figure.Figure at 0x106214690>"
      ]
     },
     "metadata": {},
     "output_type": "display_data"
    }
   ],
   "source": [
    "fig, ax = plt.subplots(3, 2, sharex=True, sharey=True);"
   ]
  },
  {
   "cell_type": "code",
   "execution_count": 46,
   "metadata": {
    "collapsed": false
   },
   "outputs": [],
   "source": [
    "_ = df.hist('NOBS', by='SNTYPE', histtype='step', bins=np.arange(0, 1500, 5), lw=2., alpha=1,\n",
    "            ax=ax, sharex=True, sharey=True)"
   ]
  },
  {
   "cell_type": "code",
   "execution_count": 47,
   "metadata": {
    "collapsed": false
   },
   "outputs": [
    {
     "data": {
      "image/png": "[encoded data removed]",
      "text/plain": [
       "<matplotlib.figure.Figure at 0x106214690>"
      ]
     },
     "execution_count": 47,
     "metadata": {},
     "output_type": "execute_result"
    }
   ],
   "source": [
    "fig"
   ]
  },
  {
   "cell_type": "code",
   "execution_count": 48,
   "metadata": {
    "collapsed": false
   },
   "outputs": [],
   "source": [
    "assert len(df) == len(snia) + len(sncc)"
   ]
  },
  {
   "cell_type": "code",
   "execution_count": 49,
   "metadata": {
    "collapsed": false
   },
   "outputs": [],
   "source": [
    "_data = np.loadtxt('test_predictions.txt')"
   ]
  },
  {
   "cell_type": "code",
   "execution_count": 52,
   "metadata": {
    "collapsed": false
   },
   "outputs": [],
   "source": [
    "predictions = pd.DataFrame(_data, columns=('SNID', 'prob', 'SNcc', 'SNIa'))\n",
    "predictions = predictions.apply(pd.to_numeric)\n",
    "predictions.SNID = predictions.SNID.astype(int)"
   ]
  },
  {
   "cell_type": "code",
   "execution_count": 53,
   "metadata": {
    "collapsed": false
   },
   "outputs": [
    {
     "data": {
      "text/html": [
       "<div>\n",
       "<table border=\"1\" class=\"dataframe\">\n",
       "  <thead>\n",
       "    <tr style=\"text-align: right;\">\n",
       "      <th></th>\n",
       "      <th>SNID</th>\n",
       "      <th>prob</th>\n",
       "      <th>SNcc</th>\n",
       "      <th>SNIa</th>\n",
       "    </tr>\n",
       "  </thead>\n",
       "  <tbody>\n",
       "    <tr>\n",
       "      <th>0</th>\n",
       "      <td>13</td>\n",
       "      <td>0.999514</td>\n",
       "      <td>0.0</td>\n",
       "      <td>0.0</td>\n",
       "    </tr>\n",
       "    <tr>\n",
       "      <th>1</th>\n",
       "      <td>42</td>\n",
       "      <td>0.999891</td>\n",
       "      <td>0.0</td>\n",
       "      <td>0.0</td>\n",
       "    </tr>\n",
       "    <tr>\n",
       "      <th>2</th>\n",
       "      <td>89</td>\n",
       "      <td>0.994168</td>\n",
       "      <td>0.0</td>\n",
       "      <td>0.0</td>\n",
       "    </tr>\n",
       "    <tr>\n",
       "      <th>3</th>\n",
       "      <td>115</td>\n",
       "      <td>0.999229</td>\n",
       "      <td>0.0</td>\n",
       "      <td>0.0</td>\n",
       "    </tr>\n",
       "    <tr>\n",
       "      <th>4</th>\n",
       "      <td>187</td>\n",
       "      <td>0.999974</td>\n",
       "      <td>0.0</td>\n",
       "      <td>0.0</td>\n",
       "    </tr>\n",
       "  </tbody>\n",
       "</table>\n",
       "</div>"
      ],
      "text/plain": [
       "   SNID      prob  SNcc  SNIa\n",
       "0    13  0.999514   0.0   0.0\n",
       "1    42  0.999891   0.0   0.0\n",
       "2    89  0.994168   0.0   0.0\n",
       "3   115  0.999229   0.0   0.0\n",
       "4   187  0.999974   0.0   0.0"
      ]
     },
     "execution_count": 53,
     "metadata": {},
     "output_type": "execute_result"
    }
   ],
   "source": [
    "predictions.head()"
   ]
  },
  {
   "cell_type": "code",
   "execution_count": 54,
   "metadata": {
    "collapsed": false
   },
   "outputs": [
    {
     "data": {
      "text/plain": [
       "299900"
      ]
     },
     "execution_count": 54,
     "metadata": {},
     "output_type": "execute_result"
    }
   ],
   "source": [
    "len(predictions)"
   ]
  },
  {
   "cell_type": "code",
   "execution_count": 55,
   "metadata": {
    "collapsed": false
   },
   "outputs": [],
   "source": [
    "joined = pd.merge(df, predictions, on='SNID', how='inner')"
   ]
  },
  {
   "cell_type": "code",
   "execution_count": 57,
   "metadata": {
    "collapsed": false
   },
   "outputs": [
    {
     "name": "stderr",
     "output_type": "stream",
     "text": [
      "/usr/local/software/lib/python2.7/site-packages/pandas/core/generic.py:2701: SettingWithCopyWarning: \n",
      "A value is trying to be set on a copy of a slice from a DataFrame.\n",
      "Try using .loc[row_indexer,col_indexer] = value instead\n",
      "\n",
      "See the caveats in the documentation: http://pandas.pydata.org/pandas-docs/stable/indexing.html#indexing-view-versus-copy\n",
      "  self[name] = value\n"
     ]
    }
   ],
   "source": [
    "results = joined[['SNID', 'SNTYPE',  'prob', 'SNIa', \"SNcc\"]]\n",
    "results.SNTYPE = results.SNTYPE.astype('int')\n",
    "results.prob = results.prob.astype(np.float)"
   ]
  },
  {
   "cell_type": "code",
   "execution_count": 58,
   "metadata": {
    "collapsed": false
   },
   "outputs": [],
   "source": [
    "import seaborn as sns\n",
    "sns.set()"
   ]
  },
  {
   "cell_type": "code",
   "execution_count": 60,
   "metadata": {
    "collapsed": false
   },
   "outputs": [
    {
     "data": {
      "text/plain": [
       "array([[<matplotlib.axes._subplots.AxesSubplot object at 0x10d847a90>,\n",
       "        <matplotlib.axes._subplots.AxesSubplot object at 0x10d748890>],\n",
       "       [<matplotlib.axes._subplots.AxesSubplot object at 0x10d799190>,\n",
       "        <matplotlib.axes._subplots.AxesSubplot object at 0x10ed62990>],\n",
       "       [<matplotlib.axes._subplots.AxesSubplot object at 0x10ed95090>,\n",
       "        <matplotlib.axes._subplots.AxesSubplot object at 0x1109e6a10>]], dtype=object)"
      ]
     },
     "execution_count": 60,
     "metadata": {},
     "output_type": "execute_result"
    },
    {
     "data": {
      "image/png": "[encoded data removed]",
      "text/plain": [
       "<matplotlib.figure.Figure at 0x11c43fe90>"
      ]
     },
     "metadata": {},
     "output_type": "display_data"
    }
   ],
   "source": [
    "results.hist('prob', by='SNTYPE', histtype='step', lw=2, bins=75)"
   ]
  }
 ],
 "metadata": {
  "kernelspec": {
   "display_name": "Python 2",
   "language": "python",
   "name": "python2"
  },
  "language_info": {
   "codemirror_mode": {
    "name": "ipython",
    "version": 2
   },
   "file_extension": ".py",
   "mimetype": "text/x-python",
   "name": "python",
   "nbconvert_exporter": "python",
   "pygments_lexer": "ipython2",
   "version": "2.7.11"
  }
 },
 "nbformat": 4,
 "nbformat_minor": 0
}
