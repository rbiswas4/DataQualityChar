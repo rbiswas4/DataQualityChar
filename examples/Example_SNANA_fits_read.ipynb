{
 "cells": [
  {
   "cell_type": "code",
   "execution_count": 1,
   "metadata": {
    "collapsed": true
   },
   "outputs": [],
   "source": [
    "import sncosmo"
   ]
  },
  {
   "cell_type": "code",
   "execution_count": 2,
   "metadata": {
    "collapsed": false
   },
   "outputs": [
    {
     "name": "stdout",
     "output_type": "stream",
     "text": [
      "LICENSE\t\t      README.md  doc\t   preprocess2.py\r\n",
      "MINION_1016_10YR_DDF  data\t examples  src\r\n"
     ]
    }
   ],
   "source": [
    "!ls .."
   ]
  },
  {
   "cell_type": "code",
   "execution_count": 3,
   "metadata": {
    "collapsed": false
   },
   "outputs": [
    {
     "name": "stdout",
     "output_type": "stream",
     "text": [
      "DES_BLIND+HOSTZ.tar.gz\t  unblind_hostz_1.csv  unblind_nohostz_1.csv\r\n",
      "DES_BLINDnoHOSTZ.tar.gz   unblind_hostz_2.csv  unblind_nohostz_2.csv\r\n",
      "DES_UNBLIND_KEY.tar.gz\t  unblind_hostz_3.csv  unblind_nohostz_3.csv\r\n",
      "SIMGEN_PUBLIC_DES\t  unblind_hostz_4.csv  unblind_nohostz_4.csv\r\n",
      "SIMGEN_PUBLIC_DES.tar.gz  unblind_hostz_5.csv  unblind_nohostz_5.csv\r\n"
     ]
    }
   ],
   "source": [
    "!ls ../data/"
   ]
  },
  {
   "cell_type": "code",
   "execution_count": 4,
   "metadata": {
    "collapsed": false
   },
   "outputs": [
    {
     "name": "stdout",
     "output_type": "stream",
     "text": [
      "DES_SN000017.DAT\r\n",
      "DES_SN000019.DAT\r\n",
      "DES_SN000126.DAT\r\n",
      "ls: write error: Broken pipe\r\n"
     ]
    }
   ],
   "source": [
    "!ls ../data/SIMGEN_PUBLIC_DES/|head -3"
   ]
  },
  {
   "cell_type": "code",
   "execution_count": 5,
   "metadata": {
    "collapsed": false
   },
   "outputs": [],
   "source": [
    "data = sncosmo.read_snana_ascii('../data/SIMGEN_PUBLIC_DES/DES_SN000017.DAT', 'OBS')"
   ]
  },
  {
   "cell_type": "code",
   "execution_count": 6,
   "metadata": {
    "collapsed": false
   },
   "outputs": [
    {
     "data": {
      "text/plain": [
       "collections.OrderedDict"
      ]
     },
     "execution_count": 6,
     "metadata": {},
     "output_type": "execute_result"
    }
   ],
   "source": [
    "type(data[0])"
   ]
  },
  {
   "cell_type": "code",
   "execution_count": 7,
   "metadata": {
    "collapsed": true
   },
   "outputs": [],
   "source": [
    "import pandas as pd\n",
    "import numpy as np"
   ]
  },
  {
   "cell_type": "code",
   "execution_count": 8,
   "metadata": {
    "collapsed": false
   },
   "outputs": [],
   "source": [
    "data = pd.DataFrame(np.asarray(data[1]['OBS']))"
   ]
  },
  {
   "cell_type": "code",
   "execution_count": 9,
   "metadata": {
    "collapsed": false
   },
   "outputs": [],
   "source": [
    "grouped = data.groupby('FLT')"
   ]
  },
  {
   "cell_type": "code",
   "execution_count": 10,
   "metadata": {
    "collapsed": false
   },
   "outputs": [
    {
     "data": {
      "text/html": [
       "<div>\n",
       "<table border=\"1\" class=\"dataframe\">\n",
       "  <thead>\n",
       "    <tr style=\"text-align: right;\">\n",
       "      <th></th>\n",
       "      <th>MJD</th>\n",
       "      <th>FLT</th>\n",
       "      <th>FIELD</th>\n",
       "      <th>FLUXCAL</th>\n",
       "      <th>FLUXCALERR</th>\n",
       "      <th>SNR</th>\n",
       "      <th>MAG</th>\n",
       "      <th>MAGERR</th>\n",
       "      <th>SIM_MAG</th>\n",
       "    </tr>\n",
       "  </thead>\n",
       "  <tbody>\n",
       "    <tr>\n",
       "      <th>4</th>\n",
       "      <td>56179.023</td>\n",
       "      <td>g</td>\n",
       "      <td>NULL</td>\n",
       "      <td>6.1220</td>\n",
       "      <td>6.377</td>\n",
       "      <td>0.96</td>\n",
       "      <td>25.533</td>\n",
       "      <td>102.467</td>\n",
       "      <td>60.656</td>\n",
       "    </tr>\n",
       "    <tr>\n",
       "      <th>8</th>\n",
       "      <td>56180.031</td>\n",
       "      <td>g</td>\n",
       "      <td>NULL</td>\n",
       "      <td>2.8650</td>\n",
       "      <td>5.671</td>\n",
       "      <td>0.51</td>\n",
       "      <td>26.357</td>\n",
       "      <td>101.643</td>\n",
       "      <td>59.296</td>\n",
       "    </tr>\n",
       "    <tr>\n",
       "      <th>12</th>\n",
       "      <td>56188.004</td>\n",
       "      <td>g</td>\n",
       "      <td>NULL</td>\n",
       "      <td>5.2790</td>\n",
       "      <td>5.677</td>\n",
       "      <td>0.93</td>\n",
       "      <td>25.694</td>\n",
       "      <td>102.306</td>\n",
       "      <td>52.990</td>\n",
       "    </tr>\n",
       "    <tr>\n",
       "      <th>16</th>\n",
       "      <td>56189.004</td>\n",
       "      <td>g</td>\n",
       "      <td>NULL</td>\n",
       "      <td>5.9300</td>\n",
       "      <td>5.647</td>\n",
       "      <td>1.05</td>\n",
       "      <td>25.567</td>\n",
       "      <td>3.298</td>\n",
       "      <td>51.733</td>\n",
       "    </tr>\n",
       "    <tr>\n",
       "      <th>33</th>\n",
       "      <td>56216.215</td>\n",
       "      <td>g</td>\n",
       "      <td>NULL</td>\n",
       "      <td>7.3900</td>\n",
       "      <td>2.487</td>\n",
       "      <td>2.97</td>\n",
       "      <td>25.328</td>\n",
       "      <td>0.445</td>\n",
       "      <td>25.735</td>\n",
       "    </tr>\n",
       "    <tr>\n",
       "      <th>37</th>\n",
       "      <td>56221.004</td>\n",
       "      <td>g</td>\n",
       "      <td>NULL</td>\n",
       "      <td>38.9500</td>\n",
       "      <td>5.337</td>\n",
       "      <td>7.30</td>\n",
       "      <td>23.524</td>\n",
       "      <td>0.160</td>\n",
       "      <td>23.707</td>\n",
       "    </tr>\n",
       "    <tr>\n",
       "      <th>41</th>\n",
       "      <td>56222.016</td>\n",
       "      <td>g</td>\n",
       "      <td>NULL</td>\n",
       "      <td>39.9200</td>\n",
       "      <td>6.345</td>\n",
       "      <td>6.29</td>\n",
       "      <td>23.497</td>\n",
       "      <td>0.188</td>\n",
       "      <td>23.572</td>\n",
       "    </tr>\n",
       "    <tr>\n",
       "      <th>45</th>\n",
       "      <td>56229.012</td>\n",
       "      <td>g</td>\n",
       "      <td>NULL</td>\n",
       "      <td>38.1200</td>\n",
       "      <td>9.885</td>\n",
       "      <td>3.86</td>\n",
       "      <td>23.547</td>\n",
       "      <td>0.326</td>\n",
       "      <td>23.537</td>\n",
       "    </tr>\n",
       "    <tr>\n",
       "      <th>49</th>\n",
       "      <td>56231.012</td>\n",
       "      <td>g</td>\n",
       "      <td>NULL</td>\n",
       "      <td>41.2500</td>\n",
       "      <td>7.017</td>\n",
       "      <td>5.88</td>\n",
       "      <td>23.461</td>\n",
       "      <td>0.202</td>\n",
       "      <td>23.592</td>\n",
       "    </tr>\n",
       "    <tr>\n",
       "      <th>53</th>\n",
       "      <td>56236.027</td>\n",
       "      <td>g</td>\n",
       "      <td>NULL</td>\n",
       "      <td>30.7400</td>\n",
       "      <td>5.282</td>\n",
       "      <td>5.82</td>\n",
       "      <td>23.781</td>\n",
       "      <td>0.205</td>\n",
       "      <td>23.769</td>\n",
       "    </tr>\n",
       "    <tr>\n",
       "      <th>57</th>\n",
       "      <td>56238.023</td>\n",
       "      <td>g</td>\n",
       "      <td>NULL</td>\n",
       "      <td>31.9600</td>\n",
       "      <td>3.739</td>\n",
       "      <td>8.55</td>\n",
       "      <td>23.739</td>\n",
       "      <td>0.135</td>\n",
       "      <td>23.856</td>\n",
       "    </tr>\n",
       "    <tr>\n",
       "      <th>61</th>\n",
       "      <td>56244.047</td>\n",
       "      <td>g</td>\n",
       "      <td>NULL</td>\n",
       "      <td>16.3400</td>\n",
       "      <td>4.247</td>\n",
       "      <td>3.85</td>\n",
       "      <td>24.467</td>\n",
       "      <td>0.328</td>\n",
       "      <td>24.098</td>\n",
       "    </tr>\n",
       "    <tr>\n",
       "      <th>65</th>\n",
       "      <td>56246.082</td>\n",
       "      <td>g</td>\n",
       "      <td>NULL</td>\n",
       "      <td>15.2300</td>\n",
       "      <td>2.921</td>\n",
       "      <td>5.21</td>\n",
       "      <td>24.543</td>\n",
       "      <td>0.232</td>\n",
       "      <td>24.165</td>\n",
       "    </tr>\n",
       "    <tr>\n",
       "      <th>69</th>\n",
       "      <td>56254.199</td>\n",
       "      <td>g</td>\n",
       "      <td>NULL</td>\n",
       "      <td>15.2700</td>\n",
       "      <td>6.162</td>\n",
       "      <td>2.48</td>\n",
       "      <td>24.541</td>\n",
       "      <td>0.561</td>\n",
       "      <td>24.417</td>\n",
       "    </tr>\n",
       "    <tr>\n",
       "      <th>73</th>\n",
       "      <td>56261.066</td>\n",
       "      <td>g</td>\n",
       "      <td>NULL</td>\n",
       "      <td>14.0100</td>\n",
       "      <td>6.949</td>\n",
       "      <td>2.02</td>\n",
       "      <td>24.634</td>\n",
       "      <td>0.744</td>\n",
       "      <td>24.673</td>\n",
       "    </tr>\n",
       "    <tr>\n",
       "      <th>77</th>\n",
       "      <td>56276.152</td>\n",
       "      <td>g</td>\n",
       "      <td>NULL</td>\n",
       "      <td>12.3800</td>\n",
       "      <td>4.062</td>\n",
       "      <td>3.05</td>\n",
       "      <td>24.768</td>\n",
       "      <td>0.431</td>\n",
       "      <td>25.298</td>\n",
       "    </tr>\n",
       "    <tr>\n",
       "      <th>85</th>\n",
       "      <td>56292.109</td>\n",
       "      <td>g</td>\n",
       "      <td>NULL</td>\n",
       "      <td>0.9879</td>\n",
       "      <td>7.769</td>\n",
       "      <td>0.13</td>\n",
       "      <td>27.513</td>\n",
       "      <td>100.487</td>\n",
       "      <td>25.958</td>\n",
       "    </tr>\n",
       "    <tr>\n",
       "      <th>89</th>\n",
       "      <td>56305.043</td>\n",
       "      <td>g</td>\n",
       "      <td>NULL</td>\n",
       "      <td>0.7818</td>\n",
       "      <td>2.881</td>\n",
       "      <td>0.27</td>\n",
       "      <td>27.767</td>\n",
       "      <td>100.233</td>\n",
       "      <td>26.481</td>\n",
       "    </tr>\n",
       "  </tbody>\n",
       "</table>\n",
       "</div>"
      ],
      "text/plain": [
       "          MJD FLT FIELD  FLUXCAL  FLUXCALERR   SNR     MAG   MAGERR  SIM_MAG\n",
       "4   56179.023   g  NULL   6.1220       6.377  0.96  25.533  102.467   60.656\n",
       "8   56180.031   g  NULL   2.8650       5.671  0.51  26.357  101.643   59.296\n",
       "12  56188.004   g  NULL   5.2790       5.677  0.93  25.694  102.306   52.990\n",
       "16  56189.004   g  NULL   5.9300       5.647  1.05  25.567    3.298   51.733\n",
       "33  56216.215   g  NULL   7.3900       2.487  2.97  25.328    0.445   25.735\n",
       "37  56221.004   g  NULL  38.9500       5.337  7.30  23.524    0.160   23.707\n",
       "41  56222.016   g  NULL  39.9200       6.345  6.29  23.497    0.188   23.572\n",
       "45  56229.012   g  NULL  38.1200       9.885  3.86  23.547    0.326   23.537\n",
       "49  56231.012   g  NULL  41.2500       7.017  5.88  23.461    0.202   23.592\n",
       "53  56236.027   g  NULL  30.7400       5.282  5.82  23.781    0.205   23.769\n",
       "57  56238.023   g  NULL  31.9600       3.739  8.55  23.739    0.135   23.856\n",
       "61  56244.047   g  NULL  16.3400       4.247  3.85  24.467    0.328   24.098\n",
       "65  56246.082   g  NULL  15.2300       2.921  5.21  24.543    0.232   24.165\n",
       "69  56254.199   g  NULL  15.2700       6.162  2.48  24.541    0.561   24.417\n",
       "73  56261.066   g  NULL  14.0100       6.949  2.02  24.634    0.744   24.673\n",
       "77  56276.152   g  NULL  12.3800       4.062  3.05  24.768    0.431   25.298\n",
       "85  56292.109   g  NULL   0.9879       7.769  0.13  27.513  100.487   25.958\n",
       "89  56305.043   g  NULL   0.7818       2.881  0.27  27.767  100.233   26.481"
      ]
     },
     "execution_count": 10,
     "metadata": {},
     "output_type": "execute_result"
    }
   ],
   "source": [
    "grouped.get_group('g').query('SNR >= 0')"
   ]
  },
  {
   "cell_type": "code",
   "execution_count": 11,
   "metadata": {
    "collapsed": false
   },
   "outputs": [
    {
     "name": "stdout",
     "output_type": "stream",
     "text": [
      "total 1008304\r\n",
      "drwxrwxr-x 12 dreiss staff       408 May 28 06:48 .\r\n",
      "drwxrwxr-x 22 dreiss staff       748 Jul  5 12:56 ..\r\n",
      "-rw-rw-r--  1 dreiss staff  23555520 May 28 06:48 LSST_Ia_HEAD.FITS\r\n",
      "-rw-rw-r--  1 dreiss staff 391351680 May 28 06:48 LSST_Ia_PHOT.FITS\r\n",
      "-rw-rw-r--  1 dreiss staff  19189440 May 28 05:25 LSST_NONIa_HEAD.FITS\r\n",
      "-rw-rw-r--  1 dreiss staff 557686080 May 28 05:25 LSST_NONIa_PHOT.FITS\r\n",
      "-rw-rw-r--  1 dreiss staff  40709562 May 28 06:48 MINION_1016_10YR_DDF.DUMP\r\n",
      "drwxrwxr-x  8 dreiss staff       272 May 28 06:48 MINION_1016_10YR_DDF.FILTERS\r\n",
      "-rw-rw-r--  1 dreiss staff         0 May 28 06:48 MINION_1016_10YR_DDF.IGNORE\r\n",
      "-rw-rw-r--  1 dreiss staff        39 May 28 06:48 MINION_1016_10YR_DDF.LIST\r\n",
      "-rw-rw-r--  1 dreiss staff       625 May 28 06:48 MINION_1016_10YR_DDF.README\r\n",
      "drwxrwxr-x  8 dreiss staff       272 May 28 06:48 misc\r\n"
     ]
    }
   ],
   "source": [
    "!ls -al ../MINION_1016_10YR_DDF/"
   ]
  },
  {
   "cell_type": "code",
   "execution_count": 12,
   "metadata": {
    "collapsed": false
   },
   "outputs": [
    {
     "name": "stdout",
     "output_type": "stream",
     "text": [
      "['13' '31' '42' ..., '1364131' '1364136' '1364137']\n",
      "65732\n",
      "<class 'astropy.table.table.Table'>\n"
     ]
    }
   ],
   "source": [
    "from astropy.io import fits\n",
    "header = fits.open('../MINION_1016_10YR_DDF/LSST_Ia_HEAD.FITS')\n",
    "snid = header[1].data['SNID']\n",
    "print(snid)\n",
    "print(len(snid))\n",
    "\n",
    "sn_first_10 = sncosmo.read_snana_fits('../MINION_1016_10YR_DDF/LSST_Ia_HEAD.FITS', \n",
    "                                      '../MINION_1016_10YR_DDF/LSST_Ia_PHOT.FITS',\n",
    "                                     snids=snid[:10])\n",
    "print type(sn_first_10[0])\n",
    "#sn_first_10[0]\n",
    "\n",
    "header = pd.DataFrame(np.asarray(header[1].data))"
   ]
  },
  {
   "cell_type": "code",
   "execution_count": 13,
   "metadata": {
    "collapsed": false
   },
   "outputs": [
    {
     "data": {
      "text/html": [
       "<div>\n",
       "<table border=\"1\" class=\"dataframe\">\n",
       "  <thead>\n",
       "    <tr style=\"text-align: right;\">\n",
       "      <th></th>\n",
       "      <th>MJD</th>\n",
       "      <th>FLT</th>\n",
       "      <th>FIELD</th>\n",
       "      <th>TELESCOPE</th>\n",
       "      <th>PHOTFLAG</th>\n",
       "      <th>PHOTPROB</th>\n",
       "      <th>FLUXCAL</th>\n",
       "      <th>FLUXCALERR</th>\n",
       "      <th>MAG</th>\n",
       "      <th>MAGERR</th>\n",
       "      <th>PSF_SIG1</th>\n",
       "      <th>PSF_SIG2</th>\n",
       "      <th>PSF_RATIO</th>\n",
       "      <th>SKY_SIG</th>\n",
       "      <th>SKY_SIG_T</th>\n",
       "      <th>RDNOISE</th>\n",
       "      <th>ZEROPT</th>\n",
       "      <th>ZEROPT_ERR</th>\n",
       "      <th>GAIN</th>\n",
       "      <th>SIM_MAGOBS</th>\n",
       "    </tr>\n",
       "  </thead>\n",
       "  <tbody>\n",
       "    <tr>\n",
       "      <th>0</th>\n",
       "      <td>60902.180</td>\n",
       "      <td>r</td>\n",
       "      <td>NULL</td>\n",
       "      <td>LSST</td>\n",
       "      <td>0</td>\n",
       "      <td>0.0</td>\n",
       "      <td>0.151862</td>\n",
       "      <td>0.909222</td>\n",
       "      <td>29.546381</td>\n",
       "      <td>98.453621</td>\n",
       "      <td>1.66</td>\n",
       "      <td>0.0</td>\n",
       "      <td>0.0</td>\n",
       "      <td>133.320007</td>\n",
       "      <td>-9.0</td>\n",
       "      <td>1.12</td>\n",
       "      <td>34.840000</td>\n",
       "      <td>0.005</td>\n",
       "      <td>1.0</td>\n",
       "      <td>32.748344</td>\n",
       "    </tr>\n",
       "    <tr>\n",
       "      <th>8</th>\n",
       "      <td>60920.199</td>\n",
       "      <td>r</td>\n",
       "      <td>NULL</td>\n",
       "      <td>LSST</td>\n",
       "      <td>0</td>\n",
       "      <td>0.0</td>\n",
       "      <td>1.518787</td>\n",
       "      <td>1.858520</td>\n",
       "      <td>27.046259</td>\n",
       "      <td>100.953743</td>\n",
       "      <td>2.94</td>\n",
       "      <td>0.0</td>\n",
       "      <td>0.0</td>\n",
       "      <td>161.100006</td>\n",
       "      <td>-9.0</td>\n",
       "      <td>1.12</td>\n",
       "      <td>34.889999</td>\n",
       "      <td>0.005</td>\n",
       "      <td>1.0</td>\n",
       "      <td>28.630016</td>\n",
       "    </tr>\n",
       "    <tr>\n",
       "      <th>12</th>\n",
       "      <td>60933.227</td>\n",
       "      <td>r</td>\n",
       "      <td>NULL</td>\n",
       "      <td>LSST</td>\n",
       "      <td>0</td>\n",
       "      <td>0.0</td>\n",
       "      <td>0.249253</td>\n",
       "      <td>0.800520</td>\n",
       "      <td>29.008398</td>\n",
       "      <td>98.991600</td>\n",
       "      <td>1.88</td>\n",
       "      <td>0.0</td>\n",
       "      <td>0.0</td>\n",
       "      <td>103.629997</td>\n",
       "      <td>-9.0</td>\n",
       "      <td>1.12</td>\n",
       "      <td>34.840000</td>\n",
       "      <td>0.005</td>\n",
       "      <td>1.0</td>\n",
       "      <td>28.010450</td>\n",
       "    </tr>\n",
       "    <tr>\n",
       "      <th>16</th>\n",
       "      <td>60947.023</td>\n",
       "      <td>r</td>\n",
       "      <td>NULL</td>\n",
       "      <td>LSST</td>\n",
       "      <td>0</td>\n",
       "      <td>0.0</td>\n",
       "      <td>3.254426</td>\n",
       "      <td>1.414858</td>\n",
       "      <td>26.218813</td>\n",
       "      <td>0.619349</td>\n",
       "      <td>2.41</td>\n",
       "      <td>0.0</td>\n",
       "      <td>0.0</td>\n",
       "      <td>136.339996</td>\n",
       "      <td>-9.0</td>\n",
       "      <td>1.12</td>\n",
       "      <td>34.790001</td>\n",
       "      <td>0.005</td>\n",
       "      <td>1.0</td>\n",
       "      <td>28.594679</td>\n",
       "    </tr>\n",
       "    <tr>\n",
       "      <th>32</th>\n",
       "      <td>60964.020</td>\n",
       "      <td>r</td>\n",
       "      <td>NULL</td>\n",
       "      <td>LSST</td>\n",
       "      <td>0</td>\n",
       "      <td>0.0</td>\n",
       "      <td>0.095845</td>\n",
       "      <td>0.832614</td>\n",
       "      <td>30.046074</td>\n",
       "      <td>97.953926</td>\n",
       "      <td>1.82</td>\n",
       "      <td>0.0</td>\n",
       "      <td>0.0</td>\n",
       "      <td>108.320000</td>\n",
       "      <td>-9.0</td>\n",
       "      <td>1.12</td>\n",
       "      <td>34.810001</td>\n",
       "      <td>0.005</td>\n",
       "      <td>1.0</td>\n",
       "      <td>29.767111</td>\n",
       "    </tr>\n",
       "    <tr>\n",
       "      <th>36</th>\n",
       "      <td>60975.070</td>\n",
       "      <td>r</td>\n",
       "      <td>NULL</td>\n",
       "      <td>LSST</td>\n",
       "      <td>0</td>\n",
       "      <td>0.0</td>\n",
       "      <td>0.146913</td>\n",
       "      <td>0.800196</td>\n",
       "      <td>29.582350</td>\n",
       "      <td>98.417648</td>\n",
       "      <td>1.76</td>\n",
       "      <td>0.0</td>\n",
       "      <td>0.0</td>\n",
       "      <td>112.720001</td>\n",
       "      <td>-9.0</td>\n",
       "      <td>1.12</td>\n",
       "      <td>34.860001</td>\n",
       "      <td>0.005</td>\n",
       "      <td>1.0</td>\n",
       "      <td>30.474836</td>\n",
       "    </tr>\n",
       "    <tr>\n",
       "      <th>40</th>\n",
       "      <td>60978.074</td>\n",
       "      <td>r</td>\n",
       "      <td>NULL</td>\n",
       "      <td>LSST</td>\n",
       "      <td>0</td>\n",
       "      <td>0.0</td>\n",
       "      <td>1.853492</td>\n",
       "      <td>1.504471</td>\n",
       "      <td>26.830021</td>\n",
       "      <td>1.812773</td>\n",
       "      <td>2.34</td>\n",
       "      <td>0.0</td>\n",
       "      <td>0.0</td>\n",
       "      <td>165.330002</td>\n",
       "      <td>-9.0</td>\n",
       "      <td>1.12</td>\n",
       "      <td>34.900002</td>\n",
       "      <td>0.005</td>\n",
       "      <td>1.0</td>\n",
       "      <td>30.844015</td>\n",
       "    </tr>\n",
       "  </tbody>\n",
       "</table>\n",
       "</div>"
      ],
      "text/plain": [
       "          MJD FLT         FIELD             TELESCOPE  PHOTFLAG  PHOTPROB  \\\n",
       "0   60902.180   r  NULL          LSST                         0       0.0   \n",
       "8   60920.199   r  NULL          LSST                         0       0.0   \n",
       "12  60933.227   r  NULL          LSST                         0       0.0   \n",
       "16  60947.023   r  NULL          LSST                         0       0.0   \n",
       "32  60964.020   r  NULL          LSST                         0       0.0   \n",
       "36  60975.070   r  NULL          LSST                         0       0.0   \n",
       "40  60978.074   r  NULL          LSST                         0       0.0   \n",
       "\n",
       "     FLUXCAL  FLUXCALERR        MAG      MAGERR  PSF_SIG1  PSF_SIG2  \\\n",
       "0   0.151862    0.909222  29.546381   98.453621      1.66       0.0   \n",
       "8   1.518787    1.858520  27.046259  100.953743      2.94       0.0   \n",
       "12  0.249253    0.800520  29.008398   98.991600      1.88       0.0   \n",
       "16  3.254426    1.414858  26.218813    0.619349      2.41       0.0   \n",
       "32  0.095845    0.832614  30.046074   97.953926      1.82       0.0   \n",
       "36  0.146913    0.800196  29.582350   98.417648      1.76       0.0   \n",
       "40  1.853492    1.504471  26.830021    1.812773      2.34       0.0   \n",
       "\n",
       "    PSF_RATIO     SKY_SIG  SKY_SIG_T  RDNOISE     ZEROPT  ZEROPT_ERR  GAIN  \\\n",
       "0         0.0  133.320007       -9.0     1.12  34.840000       0.005   1.0   \n",
       "8         0.0  161.100006       -9.0     1.12  34.889999       0.005   1.0   \n",
       "12        0.0  103.629997       -9.0     1.12  34.840000       0.005   1.0   \n",
       "16        0.0  136.339996       -9.0     1.12  34.790001       0.005   1.0   \n",
       "32        0.0  108.320000       -9.0     1.12  34.810001       0.005   1.0   \n",
       "36        0.0  112.720001       -9.0     1.12  34.860001       0.005   1.0   \n",
       "40        0.0  165.330002       -9.0     1.12  34.900002       0.005   1.0   \n",
       "\n",
       "    SIM_MAGOBS  \n",
       "0    32.748344  \n",
       "8    28.630016  \n",
       "12   28.010450  \n",
       "16   28.594679  \n",
       "32   29.767111  \n",
       "36   30.474836  \n",
       "40   30.844015  "
      ]
     },
     "execution_count": 13,
     "metadata": {},
     "output_type": "execute_result"
    }
   ],
   "source": [
    "data = pd.DataFrame(np.asarray(sn_first_10[0]))\n",
    "grouped = data.groupby('FLT')\n",
    "grouped.get_group('r').query('MAG < 99')"
   ]
  },
  {
   "cell_type": "markdown",
   "metadata": {},
   "source": [
    "We also need things like redshift, RA, Dec, etc. Get them from the 'HEAD' file?"
   ]
  },
  {
   "cell_type": "code",
   "execution_count": 137,
   "metadata": {
    "collapsed": false
   },
   "outputs": [
    {
     "name": "stdout",
     "output_type": "stream",
     "text": [
      "13           <type 'str'> False\n",
      "<class 'pandas.core.frame.DataFrame'> (65732, 79)\n",
      "1\n"
     ]
    },
    {
     "data": {
      "text/plain": [
       "SIM_SALT2beta         3.2\n",
       "SIM_PEAKMAG_u          -9\n",
       "SIM_PEAKMAG_g          -9\n",
       "SIM_PEAKMAG_r     28.2005\n",
       "SIM_PEAKMAG_i     26.1942\n",
       "SIM_PEAKMAG_z     25.1402\n",
       "SIM_PEAKMAG_Y     25.0387\n",
       "SIM_EXPOSURE_u          1\n",
       "SIM_EXPOSURE_g          1\n",
       "SIM_EXPOSURE_r          1\n",
       "SIM_EXPOSURE_i          1\n",
       "SIM_EXPOSURE_z          1\n",
       "SIM_EXPOSURE_Y          1\n",
       "SIM_GALFRAC_u          -9\n",
       "SIM_GALFRAC_g          -9\n",
       "SIM_GALFRAC_r          -9\n",
       "SIM_GALFRAC_i          -9\n",
       "SIM_GALFRAC_z          -9\n",
       "SIM_GALFRAC_Y          -9\n",
       "Name: 0, dtype: object"
      ]
     },
     "execution_count": 137,
     "metadata": {},
     "output_type": "execute_result"
    }
   ],
   "source": [
    "print header.SNID[0], type(header.SNID[0]), header.SNID[0] is '13'\n",
    "print type(header), header.shape\n",
    "print header.ix[0].SNTYPE\n",
    "header.ix[0][60:79]"
   ]
  },
  {
   "cell_type": "code",
   "execution_count": 28,
   "metadata": {
    "collapsed": false
   },
   "outputs": [
    {
     "data": {
      "text/plain": [
       "['u', 'g', 'r', 'i', 'z', 'Y']"
      ]
     },
     "execution_count": 28,
     "metadata": {},
     "output_type": "execute_result"
    }
   ],
   "source": [
    "ra = header.RA\n",
    "dec = header.DECL\n",
    "sntype = header.SNTYPE\n",
    "mwebv = header.MWEBV\n",
    "hostid = header.HOSTGAL_OBJID\n",
    "hostz = header.HOSTGAL_PHOTOZ\n",
    "hostzerr = header.HOSTGAL_PHOTOZ_ERR\n",
    "specz = header.HOSTGAL_SPECZ\n",
    "speczerr = header.HOSTGAL_SPECZ_ERR\n",
    "sim_z = header.SIM_REDSHIFT_HELIO\n",
    "\n",
    "filters = [i[-1] for i in header.columns.values if i.startswith('SIM_PEAKMAG_')]\n",
    "filters"
   ]
  },
  {
   "cell_type": "code",
   "execution_count": 129,
   "metadata": {
    "collapsed": false
   },
   "outputs": [
    {
     "data": {
      "text/html": [
       "<div>\n",
       "<table border=\"1\" class=\"dataframe\">\n",
       "  <thead>\n",
       "    <tr style=\"text-align: right;\">\n",
       "      <th></th>\n",
       "      <th>MJD</th>\n",
       "      <th>FLT</th>\n",
       "      <th>FLUXCAL</th>\n",
       "      <th>FLUXCALERR</th>\n",
       "    </tr>\n",
       "  </thead>\n",
       "  <tbody>\n",
       "    <tr>\n",
       "      <th>0</th>\n",
       "      <td>60902.180</td>\n",
       "      <td>r</td>\n",
       "      <td>0.151862</td>\n",
       "      <td>0.909222</td>\n",
       "    </tr>\n",
       "    <tr>\n",
       "      <th>8</th>\n",
       "      <td>60920.199</td>\n",
       "      <td>r</td>\n",
       "      <td>1.518787</td>\n",
       "      <td>1.858520</td>\n",
       "    </tr>\n",
       "    <tr>\n",
       "      <th>12</th>\n",
       "      <td>60933.227</td>\n",
       "      <td>r</td>\n",
       "      <td>0.249253</td>\n",
       "      <td>0.800520</td>\n",
       "    </tr>\n",
       "    <tr>\n",
       "      <th>16</th>\n",
       "      <td>60947.023</td>\n",
       "      <td>r</td>\n",
       "      <td>3.254426</td>\n",
       "      <td>1.414858</td>\n",
       "    </tr>\n",
       "    <tr>\n",
       "      <th>32</th>\n",
       "      <td>60964.020</td>\n",
       "      <td>r</td>\n",
       "      <td>0.095845</td>\n",
       "      <td>0.832614</td>\n",
       "    </tr>\n",
       "    <tr>\n",
       "      <th>36</th>\n",
       "      <td>60975.070</td>\n",
       "      <td>r</td>\n",
       "      <td>0.146913</td>\n",
       "      <td>0.800196</td>\n",
       "    </tr>\n",
       "    <tr>\n",
       "      <th>40</th>\n",
       "      <td>60978.074</td>\n",
       "      <td>r</td>\n",
       "      <td>1.853492</td>\n",
       "      <td>1.504471</td>\n",
       "    </tr>\n",
       "  </tbody>\n",
       "</table>\n",
       "</div>"
      ],
      "text/plain": [
       "          MJD FLT   FLUXCAL  FLUXCALERR\n",
       "0   60902.180   r  0.151862    0.909222\n",
       "8   60920.199   r  1.518787    1.858520\n",
       "12  60933.227   r  0.249253    0.800520\n",
       "16  60947.023   r  3.254426    1.414858\n",
       "32  60964.020   r  0.095845    0.832614\n",
       "36  60975.070   r  0.146913    0.800196\n",
       "40  60978.074   r  1.853492    1.504471"
      ]
     },
     "execution_count": 129,
     "metadata": {},
     "output_type": "execute_result"
    }
   ],
   "source": [
    "data = pd.DataFrame(np.asarray(sn_first_10[0]))\n",
    "data = data.query('MAG < 99')\n",
    "data = data[['MJD','FLT','FLUXCAL','FLUXCALERR']]\n",
    "grouped = data.groupby('FLT')\n",
    "grouped.get_group('r')"
   ]
  },
  {
   "cell_type": "code",
   "execution_count": 182,
   "metadata": {
    "collapsed": false
   },
   "outputs": [
    {
     "data": {
      "text/html": [
       "<div>\n",
       "<table border=\"1\" class=\"dataframe\">\n",
       "  <thead>\n",
       "    <tr style=\"text-align: right;\">\n",
       "      <th></th>\n",
       "      <th>MJD</th>\n",
       "      <th>FLT</th>\n",
       "      <th>FLUXCAL</th>\n",
       "      <th>FLUXCALERR</th>\n",
       "    </tr>\n",
       "  </thead>\n",
       "  <tbody>\n",
       "    <tr>\n",
       "      <th>0</th>\n",
       "      <td>NaN</td>\n",
       "      <td>r</td>\n",
       "      <td>NaN</td>\n",
       "      <td>NaN</td>\n",
       "    </tr>\n",
       "  </tbody>\n",
       "</table>\n",
       "</div>"
      ],
      "text/plain": [
       "   MJD FLT FLUXCAL FLUXCALERR\n",
       "0  NaN   r     NaN        NaN"
      ]
     },
     "execution_count": 182,
     "metadata": {},
     "output_type": "execute_result"
    }
   ],
   "source": [
    "tmp = pd.DataFrame(data.ix[0]).transpose()\n",
    "tmp[:] = np.nan\n",
    "tmp.FLT = 'r'\n",
    "tmp"
   ]
  },
  {
   "cell_type": "code",
   "execution_count": null,
   "metadata": {
    "collapsed": false
   },
   "outputs": [],
   "source": [
    "print grouped.groups.keys()\n",
    "print filters\n",
    "pd.merge(grouped.get_group('r'), grouped.get_group('i'), on=['MJD'], how='outer', suffixes=('_r', '_i'))"
   ]
  },
  {
   "cell_type": "code",
   "execution_count": null,
   "metadata": {
    "collapsed": false
   },
   "outputs": [],
   "source": [
    "df = pd.DataFrame(data.ix[0]).transpose()\n",
    "df[:] = np.nan\n",
    "\n",
    "try:\n",
    "    df = grouped.get_group(filters[0]) # grouped.groups.keys()[0])\n",
    "except:\n",
    "    df.FLT = filters[0]\n",
    "\n",
    "for f in filters[1:]: #grouped.groups.keys()[1:]:\n",
    "    print f\n",
    "    tmp = pd.DataFrame(data.ix[0]).transpose()\n",
    "    tmp[:] = np.nan\n",
    "    tmp.FLT = f\n",
    "    try:\n",
    "        tmp = grouped.get_group(f)\n",
    "    except:\n",
    "        pass\n",
    "    df = pd.merge(df, tmp, on=['MJD'], how='outer', suffixes=('', '_'+f))\n",
    "df"
   ]
  },
  {
   "cell_type": "code",
   "execution_count": null,
   "metadata": {
    "collapsed": false
   },
   "outputs": [],
   "source": [
    "data = pd.DataFrame(np.asarray(sn_first_10[0]))\n",
    "data = data.query('MAG < 99')\n",
    "data = data[['MJD','FLT','FLUXCAL','FLUXCALERR']]\n",
    "data.head()\n",
    "df = pd.pivot_table(data, ['FLUXCAL', 'FLUXCALERR'], ['FLT', 'MJD'], dropna=False)\n",
    "df"
   ]
  },
  {
   "cell_type": "code",
   "execution_count": 53,
   "metadata": {
    "collapsed": false
   },
   "outputs": [
    {
     "name": "stdout",
     "output_type": "stream",
     "text": [
      "['r' 'z' 'Y' 'i'] ['u' 'g' 'r' 'i' 'z' 'Y']\n",
      "['u' 'g']\n"
     ]
    },
    {
     "data": {
      "text/html": [
       "<div>\n",
       "<table border=\"1\" class=\"dataframe\">\n",
       "  <thead>\n",
       "    <tr style=\"text-align: right;\">\n",
       "      <th></th>\n",
       "      <th></th>\n",
       "      <th>FLUXCAL</th>\n",
       "      <th>FLUXCALERR</th>\n",
       "    </tr>\n",
       "    <tr>\n",
       "      <th>FLT</th>\n",
       "      <th>MJD</th>\n",
       "      <th></th>\n",
       "      <th></th>\n",
       "    </tr>\n",
       "  </thead>\n",
       "  <tbody>\n",
       "    <tr>\n",
       "      <th rowspan=\"5\" valign=\"top\">Y</th>\n",
       "      <th>60902.180</th>\n",
       "      <td>NaN</td>\n",
       "      <td>NaN</td>\n",
       "    </tr>\n",
       "    <tr>\n",
       "      <th>60905.184</th>\n",
       "      <td>NaN</td>\n",
       "      <td>NaN</td>\n",
       "    </tr>\n",
       "    <tr>\n",
       "      <th>60905.195</th>\n",
       "      <td>0.107521</td>\n",
       "      <td>11.075076</td>\n",
       "    </tr>\n",
       "    <tr>\n",
       "      <th>60920.199</th>\n",
       "      <td>NaN</td>\n",
       "      <td>NaN</td>\n",
       "    </tr>\n",
       "    <tr>\n",
       "      <th>60920.215</th>\n",
       "      <td>NaN</td>\n",
       "      <td>NaN</td>\n",
       "    </tr>\n",
       "  </tbody>\n",
       "</table>\n",
       "</div>"
      ],
      "text/plain": [
       "                FLUXCAL  FLUXCALERR\n",
       "FLT MJD                            \n",
       "Y   60902.180       NaN         NaN\n",
       "    60905.184       NaN         NaN\n",
       "    60905.195  0.107521   11.075076\n",
       "    60920.199       NaN         NaN\n",
       "    60920.215       NaN         NaN"
      ]
     },
     "execution_count": 53,
     "metadata": {},
     "output_type": "execute_result"
    }
   ],
   "source": [
    "data = pd.DataFrame(np.asarray(sn_first_10[0]))\n",
    "data = data.query('MAG < 99')\n",
    "data = data[['MJD','FLT','FLUXCAL','FLUXCALERR']]\n",
    "\n",
    "flts = np.array(data.FLT.unique())\n",
    "filters = np.array(filters)\n",
    "print flts, filters\n",
    "not_there = filters[~np.in1d(np.array(filters), np.array(flts))]\n",
    "print not_there\n",
    "\n",
    "for f in not_there:\n",
    "    tmp = pd.DataFrame(data.ix[0]).transpose()\n",
    "    tmp[:] = np.nan\n",
    "    tmp.FLT = f\n",
    "    data = data.append(tmp, ignore_index=True)\n",
    "    \n",
    "#data.tail()\n",
    "df = pd.pivot_table(data, ['FLUXCAL', 'FLUXCALERR'], ['FLT', 'MJD'], dropna=False)\n",
    "df.head()"
   ]
  },
  {
   "cell_type": "code",
   "execution_count": 55,
   "metadata": {
    "collapsed": false
   },
   "outputs": [
    {
     "name": "stdout",
     "output_type": "stream",
     "text": [
      "[ 60902.18   60905.184  60905.195  60920.199  60920.215  60920.227\n",
      "  60920.238  60933.227  60933.242  60933.254  60933.266  60947.023\n",
      "  60947.039  60947.051  60947.062  60950.074  60950.086  60950.098\n",
      "  60958.031  60958.043  60958.055  60961.031  60961.043  60964.02\n",
      "  60964.035  60964.047  60964.055  60975.07   60975.09   60975.098\n",
      "  60975.109  60978.074  60978.102  60992.051  60992.062]\n",
      "[ True  True  True  True  True  True  True  True  True  True  True  True\n",
      "  True  True  True  True  True  True  True  True  True  True  True  True\n",
      "  True  True  True  True  True  True  True  True  True  True  True]\n",
      "[         nan          nan   0.10752069          nan          nan\n",
      "          nan   3.17301035          nan          nan          nan\n",
      "   2.08423352          nan          nan          nan  15.84093571\n",
      "          nan          nan   1.69524229          nan          nan\n",
      "   1.1814512           nan          nan          nan          nan\n",
      "          nan  18.86037636          nan          nan          nan\n",
      "   1.57616127          nan          nan          nan          nan]\n"
     ]
    }
   ],
   "source": [
    "#df.loc['Y']\n",
    "print df.loc['Y'].index.values\n",
    "print df.loc['Y'].index.values == df.loc['r'].index.values\n",
    "print df.loc['Y'].FLUXCAL.values"
   ]
  },
  {
   "cell_type": "code",
   "execution_count": null,
   "metadata": {
    "collapsed": true
   },
   "outputs": [],
   "source": []
  }
 ],
 "metadata": {
  "kernelspec": {
   "display_name": "Python 2",
   "language": "python",
   "name": "python2"
  },
  "language_info": {
   "codemirror_mode": {
    "name": "ipython",
    "version": 2
   },
   "file_extension": ".py",
   "mimetype": "text/x-python",
   "name": "python",
   "nbconvert_exporter": "python",
   "pygments_lexer": "ipython2",
   "version": "2.7.11"
  }
 },
 "nbformat": 4,
 "nbformat_minor": 0
}
